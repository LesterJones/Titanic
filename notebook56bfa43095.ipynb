{
 "cells": [
  {
   "cell_type": "code",
   "execution_count": 1,
   "id": "b03dab79",
   "metadata": {
    "_cell_guid": "b1076dfc-b9ad-4769-8c92-a6c4dae69d19",
    "_uuid": "8f2839f25d086af736a60e9eeb907d3b93b6e0e5",
    "execution": {
     "iopub.execute_input": "2022-08-12T18:10:02.405273Z",
     "iopub.status.busy": "2022-08-12T18:10:02.404712Z",
     "iopub.status.idle": "2022-08-12T18:10:02.417249Z",
     "shell.execute_reply": "2022-08-12T18:10:02.416598Z"
    },
    "papermill": {
     "duration": 0.023564,
     "end_time": "2022-08-12T18:10:02.419213",
     "exception": false,
     "start_time": "2022-08-12T18:10:02.395649",
     "status": "completed"
    },
    "tags": []
   },
   "outputs": [
    {
     "name": "stdout",
     "output_type": "stream",
     "text": [
      "/kaggle/input/titanic/train.csv\n",
      "/kaggle/input/titanic/test.csv\n",
      "/kaggle/input/titanic/gender_submission.csv\n"
     ]
    }
   ],
   "source": [
    "# This Python 3 environment comes with many helpful analytics libraries installed\n",
    "# It is defined by the kaggle/python Docker image: https://github.com/kaggle/docker-python\n",
    "# For example, here's several helpful packages to load\n",
    "\n",
    "import numpy as np # linear algebra\n",
    "import pandas as pd # data processing, CSV file I/O (e.g. pd.read_csv)\n",
    "\n",
    "# Input data files are available in the read-only \"../input/\" directory\n",
    "# For example, running this (by clicking run or pressing Shift+Enter) will list all files under the input directory\n",
    "\n",
    "import os\n",
    "for dirname, _, filenames in os.walk('/kaggle/input'):\n",
    "    for filename in filenames:\n",
    "        print(os.path.join(dirname, filename))\n",
    "\n",
    "# You can write up to 20GB to the current directory (/kaggle/working/) that gets preserved as output when you create a version using \"Save & Run All\" \n",
    "# You can also write temporary files to /kaggle/temp/, but they won't be saved outside of the current session"
   ]
  },
  {
   "cell_type": "code",
   "execution_count": 2,
   "id": "fc067ac9",
   "metadata": {
    "execution": {
     "iopub.execute_input": "2022-08-12T18:10:02.434616Z",
     "iopub.status.busy": "2022-08-12T18:10:02.433799Z",
     "iopub.status.idle": "2022-08-12T18:10:02.473526Z",
     "shell.execute_reply": "2022-08-12T18:10:02.472371Z"
    },
    "papermill": {
     "duration": 0.050089,
     "end_time": "2022-08-12T18:10:02.475834",
     "exception": false,
     "start_time": "2022-08-12T18:10:02.425745",
     "status": "completed"
    },
    "tags": []
   },
   "outputs": [
    {
     "data": {
      "text/html": [
       "<div>\n",
       "<style scoped>\n",
       "    .dataframe tbody tr th:only-of-type {\n",
       "        vertical-align: middle;\n",
       "    }\n",
       "\n",
       "    .dataframe tbody tr th {\n",
       "        vertical-align: top;\n",
       "    }\n",
       "\n",
       "    .dataframe thead th {\n",
       "        text-align: right;\n",
       "    }\n",
       "</style>\n",
       "<table border=\"1\" class=\"dataframe\">\n",
       "  <thead>\n",
       "    <tr style=\"text-align: right;\">\n",
       "      <th></th>\n",
       "      <th>PassengerId</th>\n",
       "      <th>Survived</th>\n",
       "      <th>Pclass</th>\n",
       "      <th>Name</th>\n",
       "      <th>Sex</th>\n",
       "      <th>Age</th>\n",
       "      <th>SibSp</th>\n",
       "      <th>Parch</th>\n",
       "      <th>Ticket</th>\n",
       "      <th>Fare</th>\n",
       "      <th>Cabin</th>\n",
       "      <th>Embarked</th>\n",
       "    </tr>\n",
       "  </thead>\n",
       "  <tbody>\n",
       "    <tr>\n",
       "      <th>0</th>\n",
       "      <td>1</td>\n",
       "      <td>0</td>\n",
       "      <td>3</td>\n",
       "      <td>Braund, Mr. Owen Harris</td>\n",
       "      <td>male</td>\n",
       "      <td>22.0</td>\n",
       "      <td>1</td>\n",
       "      <td>0</td>\n",
       "      <td>A/5 21171</td>\n",
       "      <td>7.2500</td>\n",
       "      <td>NaN</td>\n",
       "      <td>S</td>\n",
       "    </tr>\n",
       "    <tr>\n",
       "      <th>1</th>\n",
       "      <td>2</td>\n",
       "      <td>1</td>\n",
       "      <td>1</td>\n",
       "      <td>Cumings, Mrs. John Bradley (Florence Briggs Th...</td>\n",
       "      <td>female</td>\n",
       "      <td>38.0</td>\n",
       "      <td>1</td>\n",
       "      <td>0</td>\n",
       "      <td>PC 17599</td>\n",
       "      <td>71.2833</td>\n",
       "      <td>C85</td>\n",
       "      <td>C</td>\n",
       "    </tr>\n",
       "    <tr>\n",
       "      <th>2</th>\n",
       "      <td>3</td>\n",
       "      <td>1</td>\n",
       "      <td>3</td>\n",
       "      <td>Heikkinen, Miss. Laina</td>\n",
       "      <td>female</td>\n",
       "      <td>26.0</td>\n",
       "      <td>0</td>\n",
       "      <td>0</td>\n",
       "      <td>STON/O2. 3101282</td>\n",
       "      <td>7.9250</td>\n",
       "      <td>NaN</td>\n",
       "      <td>S</td>\n",
       "    </tr>\n",
       "    <tr>\n",
       "      <th>3</th>\n",
       "      <td>4</td>\n",
       "      <td>1</td>\n",
       "      <td>1</td>\n",
       "      <td>Futrelle, Mrs. Jacques Heath (Lily May Peel)</td>\n",
       "      <td>female</td>\n",
       "      <td>35.0</td>\n",
       "      <td>1</td>\n",
       "      <td>0</td>\n",
       "      <td>113803</td>\n",
       "      <td>53.1000</td>\n",
       "      <td>C123</td>\n",
       "      <td>S</td>\n",
       "    </tr>\n",
       "    <tr>\n",
       "      <th>4</th>\n",
       "      <td>5</td>\n",
       "      <td>0</td>\n",
       "      <td>3</td>\n",
       "      <td>Allen, Mr. William Henry</td>\n",
       "      <td>male</td>\n",
       "      <td>35.0</td>\n",
       "      <td>0</td>\n",
       "      <td>0</td>\n",
       "      <td>373450</td>\n",
       "      <td>8.0500</td>\n",
       "      <td>NaN</td>\n",
       "      <td>S</td>\n",
       "    </tr>\n",
       "  </tbody>\n",
       "</table>\n",
       "</div>"
      ],
      "text/plain": [
       "   PassengerId  Survived  Pclass  \\\n",
       "0            1         0       3   \n",
       "1            2         1       1   \n",
       "2            3         1       3   \n",
       "3            4         1       1   \n",
       "4            5         0       3   \n",
       "\n",
       "                                                Name     Sex   Age  SibSp  \\\n",
       "0                            Braund, Mr. Owen Harris    male  22.0      1   \n",
       "1  Cumings, Mrs. John Bradley (Florence Briggs Th...  female  38.0      1   \n",
       "2                             Heikkinen, Miss. Laina  female  26.0      0   \n",
       "3       Futrelle, Mrs. Jacques Heath (Lily May Peel)  female  35.0      1   \n",
       "4                           Allen, Mr. William Henry    male  35.0      0   \n",
       "\n",
       "   Parch            Ticket     Fare Cabin Embarked  \n",
       "0      0         A/5 21171   7.2500   NaN        S  \n",
       "1      0          PC 17599  71.2833   C85        C  \n",
       "2      0  STON/O2. 3101282   7.9250   NaN        S  \n",
       "3      0            113803  53.1000  C123        S  \n",
       "4      0            373450   8.0500   NaN        S  "
      ]
     },
     "execution_count": 2,
     "metadata": {},
     "output_type": "execute_result"
    }
   ],
   "source": [
    "train_data = pd.read_csv(\"/kaggle/input/titanic/train.csv\")\n",
    "train_data.head()"
   ]
  },
  {
   "cell_type": "code",
   "execution_count": 3,
   "id": "2b1fcdac",
   "metadata": {
    "execution": {
     "iopub.execute_input": "2022-08-12T18:10:02.490629Z",
     "iopub.status.busy": "2022-08-12T18:10:02.490163Z",
     "iopub.status.idle": "2022-08-12T18:10:02.512048Z",
     "shell.execute_reply": "2022-08-12T18:10:02.510879Z"
    },
    "papermill": {
     "duration": 0.031386,
     "end_time": "2022-08-12T18:10:02.513955",
     "exception": false,
     "start_time": "2022-08-12T18:10:02.482569",
     "status": "completed"
    },
    "tags": []
   },
   "outputs": [
    {
     "data": {
      "text/html": [
       "<div>\n",
       "<style scoped>\n",
       "    .dataframe tbody tr th:only-of-type {\n",
       "        vertical-align: middle;\n",
       "    }\n",
       "\n",
       "    .dataframe tbody tr th {\n",
       "        vertical-align: top;\n",
       "    }\n",
       "\n",
       "    .dataframe thead th {\n",
       "        text-align: right;\n",
       "    }\n",
       "</style>\n",
       "<table border=\"1\" class=\"dataframe\">\n",
       "  <thead>\n",
       "    <tr style=\"text-align: right;\">\n",
       "      <th></th>\n",
       "      <th>PassengerId</th>\n",
       "      <th>Pclass</th>\n",
       "      <th>Name</th>\n",
       "      <th>Sex</th>\n",
       "      <th>Age</th>\n",
       "      <th>SibSp</th>\n",
       "      <th>Parch</th>\n",
       "      <th>Ticket</th>\n",
       "      <th>Fare</th>\n",
       "      <th>Cabin</th>\n",
       "      <th>Embarked</th>\n",
       "    </tr>\n",
       "  </thead>\n",
       "  <tbody>\n",
       "    <tr>\n",
       "      <th>0</th>\n",
       "      <td>892</td>\n",
       "      <td>3</td>\n",
       "      <td>Kelly, Mr. James</td>\n",
       "      <td>male</td>\n",
       "      <td>34.5</td>\n",
       "      <td>0</td>\n",
       "      <td>0</td>\n",
       "      <td>330911</td>\n",
       "      <td>7.8292</td>\n",
       "      <td>NaN</td>\n",
       "      <td>Q</td>\n",
       "    </tr>\n",
       "    <tr>\n",
       "      <th>1</th>\n",
       "      <td>893</td>\n",
       "      <td>3</td>\n",
       "      <td>Wilkes, Mrs. James (Ellen Needs)</td>\n",
       "      <td>female</td>\n",
       "      <td>47.0</td>\n",
       "      <td>1</td>\n",
       "      <td>0</td>\n",
       "      <td>363272</td>\n",
       "      <td>7.0000</td>\n",
       "      <td>NaN</td>\n",
       "      <td>S</td>\n",
       "    </tr>\n",
       "    <tr>\n",
       "      <th>2</th>\n",
       "      <td>894</td>\n",
       "      <td>2</td>\n",
       "      <td>Myles, Mr. Thomas Francis</td>\n",
       "      <td>male</td>\n",
       "      <td>62.0</td>\n",
       "      <td>0</td>\n",
       "      <td>0</td>\n",
       "      <td>240276</td>\n",
       "      <td>9.6875</td>\n",
       "      <td>NaN</td>\n",
       "      <td>Q</td>\n",
       "    </tr>\n",
       "    <tr>\n",
       "      <th>3</th>\n",
       "      <td>895</td>\n",
       "      <td>3</td>\n",
       "      <td>Wirz, Mr. Albert</td>\n",
       "      <td>male</td>\n",
       "      <td>27.0</td>\n",
       "      <td>0</td>\n",
       "      <td>0</td>\n",
       "      <td>315154</td>\n",
       "      <td>8.6625</td>\n",
       "      <td>NaN</td>\n",
       "      <td>S</td>\n",
       "    </tr>\n",
       "    <tr>\n",
       "      <th>4</th>\n",
       "      <td>896</td>\n",
       "      <td>3</td>\n",
       "      <td>Hirvonen, Mrs. Alexander (Helga E Lindqvist)</td>\n",
       "      <td>female</td>\n",
       "      <td>22.0</td>\n",
       "      <td>1</td>\n",
       "      <td>1</td>\n",
       "      <td>3101298</td>\n",
       "      <td>12.2875</td>\n",
       "      <td>NaN</td>\n",
       "      <td>S</td>\n",
       "    </tr>\n",
       "  </tbody>\n",
       "</table>\n",
       "</div>"
      ],
      "text/plain": [
       "   PassengerId  Pclass                                          Name     Sex  \\\n",
       "0          892       3                              Kelly, Mr. James    male   \n",
       "1          893       3              Wilkes, Mrs. James (Ellen Needs)  female   \n",
       "2          894       2                     Myles, Mr. Thomas Francis    male   \n",
       "3          895       3                              Wirz, Mr. Albert    male   \n",
       "4          896       3  Hirvonen, Mrs. Alexander (Helga E Lindqvist)  female   \n",
       "\n",
       "    Age  SibSp  Parch   Ticket     Fare Cabin Embarked  \n",
       "0  34.5      0      0   330911   7.8292   NaN        Q  \n",
       "1  47.0      1      0   363272   7.0000   NaN        S  \n",
       "2  62.0      0      0   240276   9.6875   NaN        Q  \n",
       "3  27.0      0      0   315154   8.6625   NaN        S  \n",
       "4  22.0      1      1  3101298  12.2875   NaN        S  "
      ]
     },
     "execution_count": 3,
     "metadata": {},
     "output_type": "execute_result"
    }
   ],
   "source": [
    "test_data = pd.read_csv(\"/kaggle/input/titanic/test.csv\")\n",
    "test_data.head()"
   ]
  },
  {
   "cell_type": "code",
   "execution_count": 4,
   "id": "ab41e423",
   "metadata": {
    "execution": {
     "iopub.execute_input": "2022-08-12T18:10:02.529979Z",
     "iopub.status.busy": "2022-08-12T18:10:02.528936Z",
     "iopub.status.idle": "2022-08-12T18:10:02.556709Z",
     "shell.execute_reply": "2022-08-12T18:10:02.554808Z"
    },
    "papermill": {
     "duration": 0.03841,
     "end_time": "2022-08-12T18:10:02.559381",
     "exception": false,
     "start_time": "2022-08-12T18:10:02.520971",
     "status": "completed"
    },
    "tags": []
   },
   "outputs": [
    {
     "name": "stdout",
     "output_type": "stream",
     "text": [
      "<class 'pandas.core.frame.DataFrame'>\n",
      "RangeIndex: 891 entries, 0 to 890\n",
      "Data columns (total 12 columns):\n",
      " #   Column       Non-Null Count  Dtype  \n",
      "---  ------       --------------  -----  \n",
      " 0   PassengerId  891 non-null    int64  \n",
      " 1   Survived     891 non-null    int64  \n",
      " 2   Pclass       891 non-null    int64  \n",
      " 3   Name         891 non-null    object \n",
      " 4   Sex          891 non-null    object \n",
      " 5   Age          714 non-null    float64\n",
      " 6   SibSp        891 non-null    int64  \n",
      " 7   Parch        891 non-null    int64  \n",
      " 8   Ticket       891 non-null    object \n",
      " 9   Fare         891 non-null    float64\n",
      " 10  Cabin        204 non-null    object \n",
      " 11  Embarked     889 non-null    object \n",
      "dtypes: float64(2), int64(5), object(5)\n",
      "memory usage: 83.7+ KB\n"
     ]
    }
   ],
   "source": [
    "train_data.info()"
   ]
  },
  {
   "cell_type": "markdown",
   "id": "9f802676",
   "metadata": {
    "papermill": {
     "duration": 0.006728,
     "end_time": "2022-08-12T18:10:02.573209",
     "exception": false,
     "start_time": "2022-08-12T18:10:02.566481",
     "status": "completed"
    },
    "tags": []
   },
   "source": [
    "There is a lot of cabin data missing.  I think i will leave that out.  Ticket number?  Probably skip that one.  Age is missing some data.  We don't have a ton of data points.  I may do a median fill.  I think I will skip Embarked for now.  "
   ]
  },
  {
   "cell_type": "code",
   "execution_count": 5,
   "id": "73b5e2ac",
   "metadata": {
    "execution": {
     "iopub.execute_input": "2022-08-12T18:10:02.588386Z",
     "iopub.status.busy": "2022-08-12T18:10:02.587933Z",
     "iopub.status.idle": "2022-08-12T18:10:02.619252Z",
     "shell.execute_reply": "2022-08-12T18:10:02.617821Z"
    },
    "papermill": {
     "duration": 0.041467,
     "end_time": "2022-08-12T18:10:02.621574",
     "exception": false,
     "start_time": "2022-08-12T18:10:02.580107",
     "status": "completed"
    },
    "tags": []
   },
   "outputs": [
    {
     "data": {
      "text/html": [
       "<div>\n",
       "<style scoped>\n",
       "    .dataframe tbody tr th:only-of-type {\n",
       "        vertical-align: middle;\n",
       "    }\n",
       "\n",
       "    .dataframe tbody tr th {\n",
       "        vertical-align: top;\n",
       "    }\n",
       "\n",
       "    .dataframe thead th {\n",
       "        text-align: right;\n",
       "    }\n",
       "</style>\n",
       "<table border=\"1\" class=\"dataframe\">\n",
       "  <thead>\n",
       "    <tr style=\"text-align: right;\">\n",
       "      <th></th>\n",
       "      <th>PassengerId</th>\n",
       "      <th>Survived</th>\n",
       "      <th>Pclass</th>\n",
       "      <th>Age</th>\n",
       "      <th>SibSp</th>\n",
       "      <th>Parch</th>\n",
       "      <th>Fare</th>\n",
       "    </tr>\n",
       "  </thead>\n",
       "  <tbody>\n",
       "    <tr>\n",
       "      <th>count</th>\n",
       "      <td>891.000000</td>\n",
       "      <td>891.000000</td>\n",
       "      <td>891.000000</td>\n",
       "      <td>714.000000</td>\n",
       "      <td>891.000000</td>\n",
       "      <td>891.000000</td>\n",
       "      <td>891.000000</td>\n",
       "    </tr>\n",
       "    <tr>\n",
       "      <th>mean</th>\n",
       "      <td>446.000000</td>\n",
       "      <td>0.383838</td>\n",
       "      <td>2.308642</td>\n",
       "      <td>29.699118</td>\n",
       "      <td>0.523008</td>\n",
       "      <td>0.381594</td>\n",
       "      <td>32.204208</td>\n",
       "    </tr>\n",
       "    <tr>\n",
       "      <th>std</th>\n",
       "      <td>257.353842</td>\n",
       "      <td>0.486592</td>\n",
       "      <td>0.836071</td>\n",
       "      <td>14.526497</td>\n",
       "      <td>1.102743</td>\n",
       "      <td>0.806057</td>\n",
       "      <td>49.693429</td>\n",
       "    </tr>\n",
       "    <tr>\n",
       "      <th>min</th>\n",
       "      <td>1.000000</td>\n",
       "      <td>0.000000</td>\n",
       "      <td>1.000000</td>\n",
       "      <td>0.420000</td>\n",
       "      <td>0.000000</td>\n",
       "      <td>0.000000</td>\n",
       "      <td>0.000000</td>\n",
       "    </tr>\n",
       "    <tr>\n",
       "      <th>25%</th>\n",
       "      <td>223.500000</td>\n",
       "      <td>0.000000</td>\n",
       "      <td>2.000000</td>\n",
       "      <td>20.125000</td>\n",
       "      <td>0.000000</td>\n",
       "      <td>0.000000</td>\n",
       "      <td>7.910400</td>\n",
       "    </tr>\n",
       "    <tr>\n",
       "      <th>50%</th>\n",
       "      <td>446.000000</td>\n",
       "      <td>0.000000</td>\n",
       "      <td>3.000000</td>\n",
       "      <td>28.000000</td>\n",
       "      <td>0.000000</td>\n",
       "      <td>0.000000</td>\n",
       "      <td>14.454200</td>\n",
       "    </tr>\n",
       "    <tr>\n",
       "      <th>75%</th>\n",
       "      <td>668.500000</td>\n",
       "      <td>1.000000</td>\n",
       "      <td>3.000000</td>\n",
       "      <td>38.000000</td>\n",
       "      <td>1.000000</td>\n",
       "      <td>0.000000</td>\n",
       "      <td>31.000000</td>\n",
       "    </tr>\n",
       "    <tr>\n",
       "      <th>max</th>\n",
       "      <td>891.000000</td>\n",
       "      <td>1.000000</td>\n",
       "      <td>3.000000</td>\n",
       "      <td>80.000000</td>\n",
       "      <td>8.000000</td>\n",
       "      <td>6.000000</td>\n",
       "      <td>512.329200</td>\n",
       "    </tr>\n",
       "  </tbody>\n",
       "</table>\n",
       "</div>"
      ],
      "text/plain": [
       "       PassengerId    Survived      Pclass         Age       SibSp  \\\n",
       "count   891.000000  891.000000  891.000000  714.000000  891.000000   \n",
       "mean    446.000000    0.383838    2.308642   29.699118    0.523008   \n",
       "std     257.353842    0.486592    0.836071   14.526497    1.102743   \n",
       "min       1.000000    0.000000    1.000000    0.420000    0.000000   \n",
       "25%     223.500000    0.000000    2.000000   20.125000    0.000000   \n",
       "50%     446.000000    0.000000    3.000000   28.000000    0.000000   \n",
       "75%     668.500000    1.000000    3.000000   38.000000    1.000000   \n",
       "max     891.000000    1.000000    3.000000   80.000000    8.000000   \n",
       "\n",
       "            Parch        Fare  \n",
       "count  891.000000  891.000000  \n",
       "mean     0.381594   32.204208  \n",
       "std      0.806057   49.693429  \n",
       "min      0.000000    0.000000  \n",
       "25%      0.000000    7.910400  \n",
       "50%      0.000000   14.454200  \n",
       "75%      0.000000   31.000000  \n",
       "max      6.000000  512.329200  "
      ]
     },
     "execution_count": 5,
     "metadata": {},
     "output_type": "execute_result"
    }
   ],
   "source": [
    "train_data.describe()"
   ]
  },
  {
   "cell_type": "markdown",
   "id": "2f088d16",
   "metadata": {
    "papermill": {
     "duration": 0.00654,
     "end_time": "2022-08-12T18:10:02.636376",
     "exception": false,
     "start_time": "2022-08-12T18:10:02.629836",
     "status": "completed"
    },
    "tags": []
   },
   "source": [
    "# **Check how variables correlate to survial.**"
   ]
  },
  {
   "cell_type": "code",
   "execution_count": 6,
   "id": "88a98da2",
   "metadata": {
    "execution": {
     "iopub.execute_input": "2022-08-12T18:10:02.652302Z",
     "iopub.status.busy": "2022-08-12T18:10:02.652007Z",
     "iopub.status.idle": "2022-08-12T18:10:02.662810Z",
     "shell.execute_reply": "2022-08-12T18:10:02.662098Z"
    },
    "papermill": {
     "duration": 0.020807,
     "end_time": "2022-08-12T18:10:02.664503",
     "exception": false,
     "start_time": "2022-08-12T18:10:02.643696",
     "status": "completed"
    },
    "tags": []
   },
   "outputs": [
    {
     "data": {
      "text/plain": [
       "Survived       1.000000\n",
       "Fare           0.257307\n",
       "Parch          0.081629\n",
       "PassengerId   -0.005007\n",
       "SibSp         -0.035322\n",
       "Age           -0.077221\n",
       "Pclass        -0.338481\n",
       "Name: Survived, dtype: float64"
      ]
     },
     "execution_count": 6,
     "metadata": {},
     "output_type": "execute_result"
    }
   ],
   "source": [
    "corr_matrix = train_data.corr()\n",
    "corr_matrix[\"Survived\"].sort_values(ascending=False)"
   ]
  },
  {
   "cell_type": "code",
   "execution_count": 7,
   "id": "9eeda780",
   "metadata": {
    "execution": {
     "iopub.execute_input": "2022-08-12T18:10:02.681096Z",
     "iopub.status.busy": "2022-08-12T18:10:02.680463Z",
     "iopub.status.idle": "2022-08-12T18:10:02.692937Z",
     "shell.execute_reply": "2022-08-12T18:10:02.692227Z"
    },
    "papermill": {
     "duration": 0.023216,
     "end_time": "2022-08-12T18:10:02.694627",
     "exception": false,
     "start_time": "2022-08-12T18:10:02.671411",
     "status": "completed"
    },
    "tags": []
   },
   "outputs": [
    {
     "data": {
      "text/html": [
       "<div>\n",
       "<style scoped>\n",
       "    .dataframe tbody tr th:only-of-type {\n",
       "        vertical-align: middle;\n",
       "    }\n",
       "\n",
       "    .dataframe tbody tr th {\n",
       "        vertical-align: top;\n",
       "    }\n",
       "\n",
       "    .dataframe thead th {\n",
       "        text-align: right;\n",
       "    }\n",
       "</style>\n",
       "<table border=\"1\" class=\"dataframe\">\n",
       "  <thead>\n",
       "    <tr style=\"text-align: right;\">\n",
       "      <th></th>\n",
       "      <th>PassengerId</th>\n",
       "      <th>Survived</th>\n",
       "      <th>Pclass</th>\n",
       "      <th>Age</th>\n",
       "      <th>SibSp</th>\n",
       "      <th>Parch</th>\n",
       "      <th>Fare</th>\n",
       "    </tr>\n",
       "  </thead>\n",
       "  <tbody>\n",
       "    <tr>\n",
       "      <th>PassengerId</th>\n",
       "      <td>1.000000</td>\n",
       "      <td>-0.005007</td>\n",
       "      <td>-0.035144</td>\n",
       "      <td>0.036847</td>\n",
       "      <td>-0.057527</td>\n",
       "      <td>-0.001652</td>\n",
       "      <td>0.012658</td>\n",
       "    </tr>\n",
       "    <tr>\n",
       "      <th>Survived</th>\n",
       "      <td>-0.005007</td>\n",
       "      <td>1.000000</td>\n",
       "      <td>-0.338481</td>\n",
       "      <td>-0.077221</td>\n",
       "      <td>-0.035322</td>\n",
       "      <td>0.081629</td>\n",
       "      <td>0.257307</td>\n",
       "    </tr>\n",
       "    <tr>\n",
       "      <th>Pclass</th>\n",
       "      <td>-0.035144</td>\n",
       "      <td>-0.338481</td>\n",
       "      <td>1.000000</td>\n",
       "      <td>-0.369226</td>\n",
       "      <td>0.083081</td>\n",
       "      <td>0.018443</td>\n",
       "      <td>-0.549500</td>\n",
       "    </tr>\n",
       "    <tr>\n",
       "      <th>Age</th>\n",
       "      <td>0.036847</td>\n",
       "      <td>-0.077221</td>\n",
       "      <td>-0.369226</td>\n",
       "      <td>1.000000</td>\n",
       "      <td>-0.308247</td>\n",
       "      <td>-0.189119</td>\n",
       "      <td>0.096067</td>\n",
       "    </tr>\n",
       "    <tr>\n",
       "      <th>SibSp</th>\n",
       "      <td>-0.057527</td>\n",
       "      <td>-0.035322</td>\n",
       "      <td>0.083081</td>\n",
       "      <td>-0.308247</td>\n",
       "      <td>1.000000</td>\n",
       "      <td>0.414838</td>\n",
       "      <td>0.159651</td>\n",
       "    </tr>\n",
       "    <tr>\n",
       "      <th>Parch</th>\n",
       "      <td>-0.001652</td>\n",
       "      <td>0.081629</td>\n",
       "      <td>0.018443</td>\n",
       "      <td>-0.189119</td>\n",
       "      <td>0.414838</td>\n",
       "      <td>1.000000</td>\n",
       "      <td>0.216225</td>\n",
       "    </tr>\n",
       "    <tr>\n",
       "      <th>Fare</th>\n",
       "      <td>0.012658</td>\n",
       "      <td>0.257307</td>\n",
       "      <td>-0.549500</td>\n",
       "      <td>0.096067</td>\n",
       "      <td>0.159651</td>\n",
       "      <td>0.216225</td>\n",
       "      <td>1.000000</td>\n",
       "    </tr>\n",
       "  </tbody>\n",
       "</table>\n",
       "</div>"
      ],
      "text/plain": [
       "             PassengerId  Survived    Pclass       Age     SibSp     Parch  \\\n",
       "PassengerId     1.000000 -0.005007 -0.035144  0.036847 -0.057527 -0.001652   \n",
       "Survived       -0.005007  1.000000 -0.338481 -0.077221 -0.035322  0.081629   \n",
       "Pclass         -0.035144 -0.338481  1.000000 -0.369226  0.083081  0.018443   \n",
       "Age             0.036847 -0.077221 -0.369226  1.000000 -0.308247 -0.189119   \n",
       "SibSp          -0.057527 -0.035322  0.083081 -0.308247  1.000000  0.414838   \n",
       "Parch          -0.001652  0.081629  0.018443 -0.189119  0.414838  1.000000   \n",
       "Fare            0.012658  0.257307 -0.549500  0.096067  0.159651  0.216225   \n",
       "\n",
       "                 Fare  \n",
       "PassengerId  0.012658  \n",
       "Survived     0.257307  \n",
       "Pclass      -0.549500  \n",
       "Age          0.096067  \n",
       "SibSp        0.159651  \n",
       "Parch        0.216225  \n",
       "Fare         1.000000  "
      ]
     },
     "execution_count": 7,
     "metadata": {},
     "output_type": "execute_result"
    }
   ],
   "source": [
    "corr_matrix"
   ]
  },
  {
   "cell_type": "markdown",
   "id": "93295a8c",
   "metadata": {
    "papermill": {
     "duration": 0.006952,
     "end_time": "2022-08-12T18:10:02.708835",
     "exception": false,
     "start_time": "2022-08-12T18:10:02.701883",
     "status": "completed"
    },
    "tags": []
   },
   "source": [
    "The survival rate is most strongly correlated to Fare and Pclass.  Those two might be combined, because they are correlated at 54%."
   ]
  },
  {
   "cell_type": "code",
   "execution_count": 8,
   "id": "09a14d5a",
   "metadata": {
    "execution": {
     "iopub.execute_input": "2022-08-12T18:10:02.725865Z",
     "iopub.status.busy": "2022-08-12T18:10:02.725548Z",
     "iopub.status.idle": "2022-08-12T18:10:02.730993Z",
     "shell.execute_reply": "2022-08-12T18:10:02.730149Z"
    },
    "papermill": {
     "duration": 0.016708,
     "end_time": "2022-08-12T18:10:02.733058",
     "exception": false,
     "start_time": "2022-08-12T18:10:02.716350",
     "status": "completed"
    },
    "tags": []
   },
   "outputs": [],
   "source": [
    "# Fill missing age with a median value.  Fill missing Embarked with 'Q'.\n",
    "# In retrospect it is probably better to setup a transformation pipeline.\n",
    "median = train_data[\"Age\"].median()\n",
    "train_data[\"Age\"].fillna(median, inplace=True)\n",
    "test_data[\"Age\"].fillna(median, inplace=True)"
   ]
  },
  {
   "cell_type": "markdown",
   "id": "baee007d",
   "metadata": {
    "papermill": {
     "duration": 0.006933,
     "end_time": "2022-08-12T18:10:02.746976",
     "exception": false,
     "start_time": "2022-08-12T18:10:02.740043",
     "status": "completed"
    },
    "tags": []
   },
   "source": [
    "# Age Analysis"
   ]
  },
  {
   "cell_type": "code",
   "execution_count": 9,
   "id": "6ec17047",
   "metadata": {
    "execution": {
     "iopub.execute_input": "2022-08-12T18:10:02.762578Z",
     "iopub.status.busy": "2022-08-12T18:10:02.762029Z",
     "iopub.status.idle": "2022-08-12T18:10:03.012329Z",
     "shell.execute_reply": "2022-08-12T18:10:03.011145Z"
    },
    "papermill": {
     "duration": 0.260309,
     "end_time": "2022-08-12T18:10:03.014271",
     "exception": false,
     "start_time": "2022-08-12T18:10:02.753962",
     "status": "completed"
    },
    "tags": []
   },
   "outputs": [
    {
     "data": {
      "image/png": "[encoded data removed]",
      "text/plain": [
       "<Figure size 720x576 with 1 Axes>"
      ]
     },
     "metadata": {
      "needs_background": "light"
     },
     "output_type": "display_data"
    }
   ],
   "source": [
    "%matplotlib inline\n",
    "import matplotlib.pyplot as plt\n",
    "\n",
    "train_data['Age'].hist(bins=8, figsize=(10,8))\n",
    "plt.title('Age Distribution')\n",
    "plt.xlabel('Age')\n",
    "plt.ylabel('Passenger Count')\n",
    "plt.show()"
   ]
  },
  {
   "cell_type": "code",
   "execution_count": 10,
   "id": "ce8e599e",
   "metadata": {
    "execution": {
     "iopub.execute_input": "2022-08-12T18:10:03.030189Z",
     "iopub.status.busy": "2022-08-12T18:10:03.029883Z",
     "iopub.status.idle": "2022-08-12T18:10:03.259434Z",
     "shell.execute_reply": "2022-08-12T18:10:03.258290Z"
    },
    "papermill": {
     "duration": 0.240559,
     "end_time": "2022-08-12T18:10:03.262148",
     "exception": false,
     "start_time": "2022-08-12T18:10:03.021589",
     "status": "completed"
    },
    "tags": []
   },
   "outputs": [
    {
     "data": {
      "text/plain": [
       "<function matplotlib.pyplot.show(close=None, block=None)>"
      ]
     },
     "execution_count": 10,
     "metadata": {},
     "output_type": "execute_result"
    },
    {
     "data": {
      "image/png": "[encoded data removed]",
      "text/plain": [
       "<Figure size 1440x720 with 1 Axes>"
      ]
     },
     "metadata": {
      "needs_background": "light"
     },
     "output_type": "display_data"
    }
   ],
   "source": [
    "x = train_data['Age']\n",
    "y = train_data['Survived']\n",
    "\n",
    "age = 0\n",
    "survival_percentage = list()\n",
    "while age <= 70:\n",
    "    max_age = age + 10\n",
    "    i = 0\n",
    "    count_total = 0\n",
    "    count_survivors = 0\n",
    "    while i < len(x):\n",
    "        person_age = x[i]\n",
    "        if age < person_age <= max_age:\n",
    "            if y[i] == 1:\n",
    "                count_survivors += 1\n",
    "            count_total += 1\n",
    "        i += 1\n",
    "    survival_percentage.append(count_survivors / count_total)\n",
    "    age += 10\n",
    "categories = ['0-10','10-20','20-30','30-40','40-50','50-60','60-70','70-80']\n",
    "plt.figure(figsize=(20,10))\n",
    "plt.bar(categories, survival_percentage, color='red',width = .5)\n",
    "plt.xlabel(\"Age\")\n",
    "plt.ylabel(\"Survival Percentage\")\n",
    "plt.title(\"Survival vs Age\")\n",
    "plt.show"
   ]
  },
  {
   "cell_type": "markdown",
   "id": "5a011302",
   "metadata": {
    "papermill": {
     "duration": 0.008205,
     "end_time": "2022-08-12T18:10:03.278585",
     "exception": false,
     "start_time": "2022-08-12T18:10:03.270380",
     "status": "completed"
    },
    "tags": []
   },
   "source": [
    "It appears that children age 0-10 did have a higher survival rate.  Not as high as women, but better than average.  Death rate for those above 60 have a significant drop off.  However, the number of samples in the range of 60-80 is pretty small.  Possibly a flipped cubic shape, or just negative linear relationship."
   ]
  },
  {
   "cell_type": "markdown",
   "id": "4a770a87",
   "metadata": {
    "papermill": {
     "duration": 0.007916,
     "end_time": "2022-08-12T18:10:03.295228",
     "exception": false,
     "start_time": "2022-08-12T18:10:03.287312",
     "status": "completed"
    },
    "tags": []
   },
   "source": [
    "# Sex Analysis"
   ]
  },
  {
   "cell_type": "code",
   "execution_count": 11,
   "id": "61563a3b",
   "metadata": {
    "execution": {
     "iopub.execute_input": "2022-08-12T18:10:03.312346Z",
     "iopub.status.busy": "2022-08-12T18:10:03.311814Z",
     "iopub.status.idle": "2022-08-12T18:10:03.317515Z",
     "shell.execute_reply": "2022-08-12T18:10:03.316819Z"
    },
    "papermill": {
     "duration": 0.017159,
     "end_time": "2022-08-12T18:10:03.320076",
     "exception": false,
     "start_time": "2022-08-12T18:10:03.302917",
     "status": "completed"
    },
    "tags": []
   },
   "outputs": [
    {
     "name": "stdout",
     "output_type": "stream",
     "text": [
      "% of women who survived: 0.7420382165605095\n"
     ]
    }
   ],
   "source": [
    "women = train_data.loc[train_data.Sex == 'female'][\"Survived\"]\n",
    "rate_women = sum(women)/len(women)\n",
    "print(\"% of women who survived:\", rate_women)"
   ]
  },
  {
   "cell_type": "code",
   "execution_count": 12,
   "id": "ffc304b1",
   "metadata": {
    "execution": {
     "iopub.execute_input": "2022-08-12T18:10:03.337597Z",
     "iopub.status.busy": "2022-08-12T18:10:03.337293Z",
     "iopub.status.idle": "2022-08-12T18:10:03.344574Z",
     "shell.execute_reply": "2022-08-12T18:10:03.342516Z"
    },
    "papermill": {
     "duration": 0.018743,
     "end_time": "2022-08-12T18:10:03.346940",
     "exception": false,
     "start_time": "2022-08-12T18:10:03.328197",
     "status": "completed"
    },
    "tags": []
   },
   "outputs": [
    {
     "name": "stdout",
     "output_type": "stream",
     "text": [
      "% of men who survived: 0.18890814558058924\n"
     ]
    }
   ],
   "source": [
    "men = train_data.loc[train_data.Sex=='male'][\"Survived\"]\n",
    "rate_men = sum(men)/len(men)\n",
    "print(\"% of men who survived:\", rate_men)"
   ]
  },
  {
   "cell_type": "code",
   "execution_count": 13,
   "id": "de110b08",
   "metadata": {
    "execution": {
     "iopub.execute_input": "2022-08-12T18:10:03.365398Z",
     "iopub.status.busy": "2022-08-12T18:10:03.365028Z",
     "iopub.status.idle": "2022-08-12T18:10:03.486022Z",
     "shell.execute_reply": "2022-08-12T18:10:03.485188Z"
    },
    "papermill": {
     "duration": 0.132386,
     "end_time": "2022-08-12T18:10:03.488148",
     "exception": false,
     "start_time": "2022-08-12T18:10:03.355762",
     "status": "completed"
    },
    "tags": []
   },
   "outputs": [
    {
     "data": {
      "image/png": "[encoded data removed]",
      "text/plain": [
       "<Figure size 1440x720 with 1 Axes>"
      ]
     },
     "metadata": {},
     "output_type": "display_data"
    }
   ],
   "source": [
    "male_survivors = sum(men)\n",
    "male_dead = len(men) - male_survivors\n",
    "female_survivors = sum(women)\n",
    "female_dead = len(women) - female_survivors\n",
    "\n",
    "y = [male_survivors, female_survivors, female_dead, male_dead]\n",
    "my_labels = ['male_survivors', 'female_survivors', 'female_dead', 'male_dead']\n",
    "\n",
    "plt.figure(figsize=(20,10))\n",
    "plt.pie(y, labels = my_labels)\n",
    "plt.title(\"Male / Female Survival\")\n",
    "plt.show()\n"
   ]
  },
  {
   "cell_type": "markdown",
   "id": "ee3e683e",
   "metadata": {
    "papermill": {
     "duration": 0.011275,
     "end_time": "2022-08-12T18:10:03.511466",
     "exception": false,
     "start_time": "2022-08-12T18:10:03.500191",
     "status": "completed"
    },
    "tags": []
   },
   "source": [
    "Clearly it was better to be a woman.  This could be a binary model.  True for women.  False for men."
   ]
  },
  {
   "cell_type": "markdown",
   "id": "a8fdab31",
   "metadata": {
    "papermill": {
     "duration": 0.011156,
     "end_time": "2022-08-12T18:10:03.534077",
     "exception": false,
     "start_time": "2022-08-12T18:10:03.522921",
     "status": "completed"
    },
    "tags": []
   },
   "source": [
    "# Passenger Class Analysis"
   ]
  },
  {
   "cell_type": "code",
   "execution_count": 14,
   "id": "34d5e610",
   "metadata": {
    "execution": {
     "iopub.execute_input": "2022-08-12T18:10:03.556538Z",
     "iopub.status.busy": "2022-08-12T18:10:03.556228Z",
     "iopub.status.idle": "2022-08-12T18:10:03.714017Z",
     "shell.execute_reply": "2022-08-12T18:10:03.712919Z"
    },
    "papermill": {
     "duration": 0.170453,
     "end_time": "2022-08-12T18:10:03.715957",
     "exception": false,
     "start_time": "2022-08-12T18:10:03.545504",
     "status": "completed"
    },
    "tags": []
   },
   "outputs": [
    {
     "data": {
      "text/plain": [
       "<function matplotlib.pyplot.show(close=None, block=None)>"
      ]
     },
     "execution_count": 14,
     "metadata": {},
     "output_type": "execute_result"
    },
    {
     "data": {
      "image/png": "[encoded data removed]",
      "text/plain": [
       "<Figure size 720x576 with 1 Axes>"
      ]
     },
     "metadata": {
      "needs_background": "light"
     },
     "output_type": "display_data"
    }
   ],
   "source": [
    "passenger_class = train_data['Pclass']\n",
    "survived = train_data['Survived']\n",
    "\n",
    "counts = [0,0,0]\n",
    "survivors = [0,0,0]\n",
    "i = 0\n",
    "while i < len(passenger_class):\n",
    "    person = passenger_class[i] - 1\n",
    "    counts[person] = counts[person] + 1\n",
    "    if survived[i] == 1:\n",
    "        survivors[person] = survivors[person] + 1\n",
    "    i = i + 1\n",
    "\n",
    "percentage_survivors = [100 * survivors[i]/counts[i] for i in (0,1,2)]\n",
    "categories = [1,2,3]\n",
    "plt.figure(figsize=(10,8))\n",
    "plt.bar(categories, percentage_survivors, color='green',width = .4)\n",
    "plt.xlabel(\"Pclass\")\n",
    "plt.ylabel(\"Survival Percentage\")\n",
    "plt.title(\"Survival vs Class\")\n",
    "plt.show"
   ]
  },
  {
   "cell_type": "markdown",
   "id": "5184d7c5",
   "metadata": {
    "papermill": {
     "duration": 0.008569,
     "end_time": "2022-08-12T18:10:03.733730",
     "exception": false,
     "start_time": "2022-08-12T18:10:03.725161",
     "status": "completed"
    },
    "tags": []
   },
   "source": [
    "**Wow.  Class is a big inicator of survival.**"
   ]
  },
  {
   "cell_type": "markdown",
   "id": "efec984f",
   "metadata": {
    "papermill": {
     "duration": 0.008491,
     "end_time": "2022-08-12T18:10:03.751020",
     "exception": false,
     "start_time": "2022-08-12T18:10:03.742529",
     "status": "completed"
    },
    "tags": []
   },
   "source": [
    "# Fare Analysis"
   ]
  },
  {
   "cell_type": "code",
   "execution_count": 15,
   "id": "249bb1ce",
   "metadata": {
    "execution": {
     "iopub.execute_input": "2022-08-12T18:10:03.771630Z",
     "iopub.status.busy": "2022-08-12T18:10:03.771077Z",
     "iopub.status.idle": "2022-08-12T18:10:04.007810Z",
     "shell.execute_reply": "2022-08-12T18:10:04.006645Z"
    },
    "papermill": {
     "duration": 0.250147,
     "end_time": "2022-08-12T18:10:04.010084",
     "exception": false,
     "start_time": "2022-08-12T18:10:03.759937",
     "status": "completed"
    },
    "tags": []
   },
   "outputs": [
    {
     "data": {
      "text/plain": [
       "<function matplotlib.pyplot.show(close=None, block=None)>"
      ]
     },
     "execution_count": 15,
     "metadata": {},
     "output_type": "execute_result"
    },
    {
     "data": {
      "image/png": "[encoded data removed]",
      "text/plain": [
       "<Figure size 1440x720 with 1 Axes>"
      ]
     },
     "metadata": {
      "needs_background": "light"
     },
     "output_type": "display_data"
    }
   ],
   "source": [
    "passenger_fare = train_data['Fare']\n",
    "survived = train_data['Survived']\n",
    "\n",
    "passenger_fare.hist(bins=50, figsize=(20,10))\n",
    "plt.show"
   ]
  },
  {
   "cell_type": "markdown",
   "id": "94552886",
   "metadata": {
    "papermill": {
     "duration": 0.009536,
     "end_time": "2022-08-12T18:10:04.029029",
     "exception": false,
     "start_time": "2022-08-12T18:10:04.019493",
     "status": "completed"
    },
    "tags": []
   },
   "source": [
    "Most fares were in the $0-$30 range.  One $500 fare is way out there."
   ]
  },
  {
   "cell_type": "markdown",
   "id": "7cdf9b17",
   "metadata": {
    "papermill": {
     "duration": 0.009114,
     "end_time": "2022-08-12T18:10:04.047337",
     "exception": false,
     "start_time": "2022-08-12T18:10:04.038223",
     "status": "completed"
    },
    "tags": []
   },
   "source": [
    "# Sibling Analysis"
   ]
  },
  {
   "cell_type": "code",
   "execution_count": 16,
   "id": "6000dc65",
   "metadata": {
    "execution": {
     "iopub.execute_input": "2022-08-12T18:10:04.066925Z",
     "iopub.status.busy": "2022-08-12T18:10:04.066584Z",
     "iopub.status.idle": "2022-08-12T18:10:04.403257Z",
     "shell.execute_reply": "2022-08-12T18:10:04.401916Z"
    },
    "papermill": {
     "duration": 0.34854,
     "end_time": "2022-08-12T18:10:04.404966",
     "exception": false,
     "start_time": "2022-08-12T18:10:04.056426",
     "status": "completed"
    },
    "tags": []
   },
   "outputs": [
    {
     "name": "stdout",
     "output_type": "stream",
     "text": [
      "[608, 209, 28, 16, 18, 5, 0, 0, 7]\n",
      "[0.34539473684210525, 0.5358851674641149, 0.4642857142857143, 0.25, 0.16666666666666666, 0.0, 0, 0, 0.0]\n"
     ]
    },
    {
     "data": {
      "image/png": "[encoded data removed]",
      "text/plain": [
       "<Figure size 1440x720 with 1 Axes>"
      ]
     },
     "metadata": {
      "needs_background": "light"
     },
     "output_type": "display_data"
    }
   ],
   "source": [
    "siblings = train_data['SibSp']\n",
    "survived = train_data['Survived']\n",
    "\n",
    "categories = [0,1,2,3,4,5,6,7,8]\n",
    "percent_survived = list()\n",
    "totals = list()\n",
    "for entry in categories:\n",
    "    total_count = 0\n",
    "    survivor_count = 0\n",
    "    i = 0\n",
    "    while i < len(siblings):\n",
    "        if siblings[i] == entry:\n",
    "            total_count += 1\n",
    "            if survived[i] == 1:\n",
    "                survivor_count += 1\n",
    "        i = i + 1\n",
    "    totals.append(total_count)\n",
    "    if total_count == 0:\n",
    "        percent_survived.append(0)\n",
    "    else:\n",
    "        percent_survived.append(survivor_count / total_count)\n",
    "print(totals)\n",
    "print(percent_survived)\n",
    "\n",
    "x = [i for i in range(0,9)]\n",
    "y = percent_survived\n",
    "\n",
    "plt.figure(figsize=(20,10))\n",
    "plt.plot(x,y)\n",
    "plt.title(\"Number of Siblings vs. Survival\")\n",
    "plt.xlabel(\"Number of Siblings\")\n",
    "plt.ylabel(\"Survival_Rate\")\n",
    "plt.show()"
   ]
  },
  {
   "cell_type": "markdown",
   "id": "e08ba26d",
   "metadata": {
    "papermill": {
     "duration": 0.01001,
     "end_time": "2022-08-12T18:10:04.425468",
     "exception": false,
     "start_time": "2022-08-12T18:10:04.415458",
     "status": "completed"
    },
    "tags": []
   },
   "source": [
    "**The number of siblings had a dramatic impact on survival.  This was not immediatly intuitive to me.  Probably in the chaos everyone was looking for each other, and no one got on the boats without their family.**"
   ]
  },
  {
   "cell_type": "markdown",
   "id": "dc8ad7bc",
   "metadata": {
    "papermill": {
     "duration": 0.009868,
     "end_time": "2022-08-12T18:10:04.445249",
     "exception": false,
     "start_time": "2022-08-12T18:10:04.435381",
     "status": "completed"
    },
    "tags": []
   },
   "source": [
    "# Add a column for sex.  1 for female: 1 for male."
   ]
  },
  {
   "cell_type": "markdown",
   "id": "c4755149",
   "metadata": {
    "papermill": {
     "duration": 0.009777,
     "end_time": "2022-08-12T18:10:04.465165",
     "exception": false,
     "start_time": "2022-08-12T18:10:04.455388",
     "status": "completed"
    },
    "tags": []
   },
   "source": []
  },
  {
   "cell_type": "code",
   "execution_count": 17,
   "id": "8fc735ac",
   "metadata": {
    "execution": {
     "iopub.execute_input": "2022-08-12T18:10:04.487169Z",
     "iopub.status.busy": "2022-08-12T18:10:04.486622Z",
     "iopub.status.idle": "2022-08-12T18:10:04.511360Z",
     "shell.execute_reply": "2022-08-12T18:10:04.510724Z"
    },
    "papermill": {
     "duration": 0.038231,
     "end_time": "2022-08-12T18:10:04.513497",
     "exception": false,
     "start_time": "2022-08-12T18:10:04.475266",
     "status": "completed"
    },
    "tags": []
   },
   "outputs": [],
   "source": [
    "def make_new_column(data):\n",
    "    new_column = data.copy()\n",
    "    i = 0\n",
    "    while i < len(new_column):\n",
    "        if new_column[i] == 'male':\n",
    "            new_column[i] = 0\n",
    "        if new_column[i] == 'female':\n",
    "            new_column[i] = 1\n",
    "        i += 1\n",
    "    return new_column\n",
    "    \n",
    "sex_binary = train_data['Sex']\n",
    "sex_binary = make_new_column(sex_binary)\n",
    "train_data['Sex_Binary'] = sex_binary\n",
    "sex_binary = test_data['Sex']\n",
    "sex_binary = make_new_column(sex_binary)\n",
    "test_data['Sex_Binary'] = sex_binary"
   ]
  },
  {
   "cell_type": "code",
   "execution_count": 18,
   "id": "7af82235",
   "metadata": {
    "execution": {
     "iopub.execute_input": "2022-08-12T18:10:04.534553Z",
     "iopub.status.busy": "2022-08-12T18:10:04.534025Z",
     "iopub.status.idle": "2022-08-12T18:10:05.952310Z",
     "shell.execute_reply": "2022-08-12T18:10:05.951427Z"
    },
    "papermill": {
     "duration": 1.4318,
     "end_time": "2022-08-12T18:10:05.954835",
     "exception": false,
     "start_time": "2022-08-12T18:10:04.523035",
     "status": "completed"
    },
    "tags": []
   },
   "outputs": [
    {
     "name": "stdout",
     "output_type": "stream",
     "text": [
      "Your submission was successfully saved!\n"
     ]
    }
   ],
   "source": [
    "from sklearn.ensemble import RandomForestClassifier\n",
    "\n",
    "y = train_data[\"Survived\"]\n",
    "\n",
    "features = [\"Sex_Binary\", \"Pclass\", \"Sex\", \"SibSp\", \"Parch\"]\n",
    "X = pd.get_dummies(train_data[features])\n",
    "X_test = pd.get_dummies(test_data[features])\n",
    "\n",
    "model = RandomForestClassifier(n_estimators=100, max_depth=5, random_state=1)\n",
    "model.fit(X, y)\n",
    "predictions = model.predict(X_test)\n",
    "\n",
    "output = pd.DataFrame({'PassengerId': test_data.PassengerId, 'Survived': predictions})\n",
    "output.to_csv('submission.csv', index=False)\n",
    "print(\"Your submission was successfully saved!\")"
   ]
  },
  {
   "cell_type": "code",
   "execution_count": null,
   "id": "32ec8e66",
   "metadata": {
    "papermill": {
     "duration": 0.009411,
     "end_time": "2022-08-12T18:10:05.973984",
     "exception": false,
     "start_time": "2022-08-12T18:10:05.964573",
     "status": "completed"
    },
    "tags": []
   },
   "outputs": [],
   "source": []
  }
 ],
 "metadata": {
  "kernelspec": {
   "display_name": "Python 3",
   "language": "python",
   "name": "python3"
  },
  "language_info": {
   "codemirror_mode": {
    "name": "ipython",
    "version": 3
   },
   "file_extension": ".py",
   "mimetype": "text/x-python",
   "name": "python",
   "nbconvert_exporter": "python",
   "pygments_lexer": "ipython3",
   "version": "3.7.12"
  },
  "papermill": {
   "default_parameters": {},
   "duration": 12.418518,
   "end_time": "2022-08-12T18:10:06.704890",
   "environment_variables": {},
   "exception": null,
   "input_path": "__notebook__.ipynb",
   "output_path": "__notebook__.ipynb",
   "parameters": {},
   "start_time": "2022-08-12T18:09:54.286372",
   "version": "2.3.4"
  }
 },
 "nbformat": 4,
 "nbformat_minor": 5
}
